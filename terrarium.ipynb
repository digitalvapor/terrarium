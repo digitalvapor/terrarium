{
 "metadata": {
  "name": "",
  "signature": "sha256:2bc1a7b56ec03968630c19805d35f970c9d84687d839b378b8a424dffadc9f2c"
 },
 "nbformat": 3,
 "nbformat_minor": 0,
 "worksheets": [
  {
   "cells": [
    {
     "cell_type": "markdown",
     "metadata": {},
     "source": [
      "Day 0 - Tank Cleaning and Placement"
     ]
    },
    {
     "cell_type": "heading",
     "level": 2,
     "metadata": {},
     "source": [
      "20140712"
     ]
    },
    {
     "cell_type": "markdown",
     "metadata": {},
     "source": [
      "* 15 gallon DIY saltwater-style aquarium purchased for our tank. Inner dimensions measured at 11 3/4\" wide x 23 1/2\" long x 12\" high.\n",
      "* Wiped down with vinegar and distilled water. Then rinsed multiple times with distilled water.\n",
      "* Placed next to a west-facing window."
     ]
    },
    {
     "cell_type": "heading",
     "level": 1,
     "metadata": {},
     "source": [
      "Day 1 - Drosera Capensis, Unidentified Drosera plantlets, and Various Sphagnum propagation"
     ]
    },
    {
     "cell_type": "heading",
     "level": 2,
     "metadata": {},
     "source": [
      "20140713"
     ]
    },
    {
     "cell_type": "markdown",
     "metadata": {},
     "source": [
      "* Visited [Conservatory of Flowers](http://conservatoryofflowers.org/)' carnivorous plant [CHOMP!](http://conservatoryofflowers.org/special-events/chomp-they-came-swamp) exhibit.\n",
      "* Purchased a [Drosera Capensis](https://en.wikipedia.org/wiki/Drosera_capensis) that has some yet uncounted 20+ small Drosera plantlets.\n",
      "* Placed this Drosera container in terrarium with approximately 1/2 cm distilled water in bottom of tank.\n",
      "* Placed single pieces of various sphagnum and other mosses on some dead sphagnum moss substrate in a separate container in the terrarium that also is dampened, and with a 1/2 cm distilled water."
     ]
    },
    {
     "cell_type": "heading",
     "level": 1,
     "metadata": {},
     "source": [
      "Day 2 - Water misting, Added Grid, Darlingtonia Californica Cold Stratification"
     ]
    },
    {
     "cell_type": "heading",
     "level": 2,
     "metadata": {},
     "source": [
      "20140714"
     ]
    },
    {
     "cell_type": "markdown",
     "metadata": {},
     "source": [
      "6pm\n",
      "\n",
      "* Refilled to another < 1 cm distilled water amount in morning.\n",
      "* Misted sides and top at ~6pm to see if this heightens humidity for an extended period.\n",
      "* No drastic changes in plants, but look healthy enough (IMHO, for a first full day after placement) and not shocked from travel, or change in environment.\n",
      "\n",
      "9pm\n",
      "\n",
      "* Cut plastic flourescent grid for bottom of tank.\n",
      "* Topped more distilled water off to regular height relative to the Drosera pot.\n",
      "* Drosera looking much refreshed (possibly just a positive outlook).\n",
      "\n",
      "10:30pm\n",
      "\n",
      "##Darlingtonia Californica Cold Stratification\n",
      "4-6 weeks cold stratification needed, see [ICPS Darlingtonia guide](http://www.carnivorousplants.org/howto/GrowingGuides/Darlingtonia.php). Propagation is following first part of ICPS' [Sowing Seeds Step-by-Step](http://www.carnivorousplants.org/howto/Propagation/SeedsSBS.php).\n",
      "\n",
      "\n",
      "1. Wash sphagnum.\n",
      "2. Chop sphagnum, then divide into two bunches.\n",
      "3. Divide seeds into two and place into these sphagnum bunches. The seeds were very tiny and almost like fluff pieces, so eyeballed instead of counted.\n",
      "4. Label bags and place seed-infused sphagnum in bags, one for 4 weeks and one for 6 weeks.\n",
      "5. Place in refrigerator.\n",
      "6. Wait 4 weeks and 6 weeks respectively. (8/11 and 8/25)\n"
     ]
    },
    {
     "cell_type": "heading",
     "level": 1,
     "metadata": {},
     "source": [
      "Day 4 - Utricularia subulata"
     ]
    },
    {
     "cell_type": "heading",
     "level": 2,
     "metadata": {},
     "source": [
      "20140715"
     ]
    },
    {
     "cell_type": "markdown",
     "metadata": {},
     "source": [
      "6:30pm \n",
      "\n",
      "* misted terrarium walls again\n",
      "\n",
      "##Utricularia subulata seed propagation\n",
      "\n",
      "9:30pm\n",
      "\n",
      "* cleaned container, rinsed with distilled water\n",
      "* rinsed and chopped sphagnum\n",
      "* added sphagnum loosely to top\n",
      "* fill container to near top with distilled water\n",
      "* topped a bit of sphagnum off so mostly even with top, and still moist\n",
      "* sprinkle those seeds! so tiny, less than pepper.\n",
      "* covered with a sandwich bag, was tight enough that didnt tape."
     ]
    },
    {
     "cell_type": "heading",
     "level": 1,
     "metadata": {},
     "source": [
      "Day 5 - Pinguicula Lusitanica"
     ]
    },
    {
     "cell_type": "heading",
     "level": 2,
     "metadata": {},
     "source": [
      "20140716"
     ]
    },
    {
     "cell_type": "markdown",
     "metadata": {},
     "source": [
      "1:00am\n",
      "\n",
      "* misted walls\n",
      "\n",
      "6:00am\n",
      "\n",
      "* misted walls\n",
      "\n",
      "10:00pm\n",
      "\n",
      "##Pinguicula Lusitanica seed propagation\n",
      "We'd like to use 3/1/1 peat:sand:perlite in the future, or possibly pure peat depending on conditions[^3] (what conditions?), or 50/50 peat:sand [^4]. However, we're just gonna go for 3/2 peat:sand as an in-between.\n",
      "\n",
      "[^3]:http://www.carnivorousplants.org/howto/GrowingGuides/Pings_WarmTemp.php\n",
      "[^4]:http://www.carnivorousplants.org/cpn/articles/CPNv19n1_2p41_43.pdf\n",
      "\n",
      "* For this mix we used ____ sand, and ____ peat. Both of which were washed with only distilled water.\n",
      "* Cleaned a ___ x ___ square plastic pot\n",
      "* Placed a small amount of washed sphagnum from yesterday at the bottom to cover the holes. This is so that the sand and peat dont fall out as easy.\n",
      "* Loosely placed our 3/2 peat:sand mix into the pot, and lightly shook it to self pack, then topped it off.\n",
      "* We then sprinkled the miniscule Pinguicula seeds on top.\n",
      "* We placed a sandwich bag on top and rubber-banded it and placed in the tank."
     ]
    },
    {
     "cell_type": "heading",
     "level": 1,
     "metadata": {},
     "source": [
      "Day 6 - Plant Package!"
     ]
    },
    {
     "cell_type": "heading",
     "level": 2,
     "metadata": {},
     "source": [
      "20140717"
     ]
    },
    {
     "cell_type": "markdown",
     "metadata": {},
     "source": [
      "6:00am\n",
      "\n",
      "* misted walls of terrarium\n",
      "\n",
      "6:00pm\n",
      "\n",
      "* Received plants in mail! The plants came in a well packaged box, individually sphagnum wrapped. All were much larger than I thought they would be, except for Sarracenia leucophylla which looks like two sticks.\n",
      "* After unwrapping, placed plants still individually sphagnum wrapped in plastic containers into terrarium.\n",
      "* Misted terrarium walls.\n",
      "\n",
      "##New Plants\n",
      "Received the following in individually wrapped wet sphagnum, and rubber-banded together.\n",
      "\n",
      "* [Drosera rotundifolia](https://en.wikipedia.org/wiki/Drosera_rotundifolia) - Round-Leafed Sundew\n",
      "* [Drosera filiformis](https://en.wikipedia.org/wiki/Drosera_filiformis) tracyi - Thread-Leafed Sundew, white form\n",
      "* [Drosera capensis](https://en.wikipedia.org/wiki/Drosera_capensis) - Cape Sundew, typical form\n",
      "* [Sarracenia leucophylla](https://en.wikipedia.org/wiki/Sarracenia_leucophylla) - White-topped Pitcher Plant\n",
      "* [Nepenthes 'Miranda'](https://en.wikipedia.org/wiki/Nepenthes_%27Miranda%27) ([N. maxima](https://en.wikipedia.org/wiki/Nepenthes_maxima) x [N. northiana](https://en.wikipedia.org/wiki/Nepenthes_northiana))\n",
      "* [Sarracenia purpurea](https://en.wikipedia.org/wiki/Sarracenia_purpurea) purpurea - Northern Purple Pitcher Plant"
     ]
    },
    {
     "cell_type": "heading",
     "level": 1,
     "metadata": {},
     "source": [
      "Day 7-8 - Watered pitchers"
     ]
    },
    {
     "cell_type": "heading",
     "level": 2,
     "metadata": {},
     "source": [
      "20140718"
     ]
    },
    {
     "cell_type": "markdown",
     "metadata": {},
     "source": [
      "6:00am\n",
      "\n",
      "* misted terrarium walls"
     ]
    },
    {
     "cell_type": "heading",
     "level": 2,
     "metadata": {},
     "source": [
      "20140719"
     ]
    },
    {
     "cell_type": "markdown",
     "metadata": {},
     "source": [
      "10:00am\n",
      "\n",
      "* Use dropper to put distilled water in the Nepenthes 'Miranda' and Sarracenia purpurea purpurea pitchers so that they do not diminish. Purpurea purpurea uses rainwater in the wild[^1] to partially fill pitchers.\n",
      "\n",
      "[^1]:http://www.sarracenia.com/faq/faq3100.html"
     ]
    },
    {
     "cell_type": "heading",
     "level": 1,
     "metadata": {},
     "source": [
      "Day 9 - Mixed sediment and potted six CPs!"
     ]
    },
    {
     "cell_type": "heading",
     "level": 2,
     "metadata": {},
     "source": [
      "20140720"
     ]
    },
    {
     "cell_type": "markdown",
     "metadata": {},
     "source": [
      "##Sediment Note\n",
      "\n",
      "* Long Fibered Sphagnum (Mosser Lee)\n",
      "* Washed Sand (Black Gold)\n",
      "* Canadian Sphagnum Peat Moss Plus (Black Gold)\n",
      "* Perlite (Uni-Gro)\n",
      "\n",
      "##Potting\n",
      "\n",
      "6:00pm\n",
      "\n",
      "* washed a 1/1 peat:sand mix for our received CPs since we now have enough pots on hand\n",
      "* placed all plants (Drosera rotundifolia, Drosera filiformis tracyi, Drosera capensis, Sarracenia leucophylla, Nepenthes 'Miranda', Sarracenia purpurea purpurea) into pots with 50/50 CP mix. **Aside:** put sphagnum over pot holes next time. We were so excited we forgot. The only purpose of this is to reduce dirtying tank.\n",
      "* Drosera filiformis tracyi we gave a layer (~1cm) of washed sand. This is so the surface doesn't get too wet and prevent rot[^1].\n",
      "* Trimmed the Drosera of browning or dead stalks.\n",
      "* Placed in terrarium.\n",
      "\n",
      "[^1]:http://www.carnivorousplants.org/howto/GrowingGuides/D_filiformis.php\n",
      "\n",
      "7:30pm\n",
      "\n",
      "* Noticed some white fuzzy mold on our original Drosera capensis with all the plantlets. It won't harm plants[^2], but removed.\n",
      "* Pulled Drosera pot out of terrarium and into a partially water-filled dish for the night.\n",
      "\n",
      "[^2]:http://www.sarracenia.com/faq/faq2310.html"
     ]
    },
    {
     "cell_type": "heading",
     "level": 1,
     "metadata": {},
     "source": [
      "Day 10-12 Dry Purpurea and re-topping Drosera"
     ]
    },
    {
     "cell_type": "heading",
     "level": 2,
     "metadata": {},
     "source": [
      "20140721"
     ]
    },
    {
     "cell_type": "markdown",
     "metadata": {},
     "source": [
      "* Purpurea don't hold their distilled water, they seem husklike/dry to the touch. The small pitchers don't look better to me either.\n",
      "* removed half of the plastic wrap on the top of the tank, experimenting with humidity"
     ]
    },
    {
     "cell_type": "heading",
     "level": 2,
     "metadata": {},
     "source": [
      "20140722"
     ]
    },
    {
     "cell_type": "markdown",
     "metadata": {},
     "source": [
      "* Drosera capensis with mold has remained removed through this time."
     ]
    },
    {
     "cell_type": "heading",
     "level": 2,
     "metadata": {},
     "source": [
      "20140723"
     ]
    },
    {
     "cell_type": "markdown",
     "metadata": {},
     "source": [
      "11:00am\n",
      "\n",
      "* Misted terrarium walls\n",
      "* replaced the other half of plastic wrap on top of terrarium"
     ]
    },
    {
     "cell_type": "heading",
     "level": 2,
     "metadata": {},
     "source": [
      "20140724"
     ]
    },
    {
     "cell_type": "markdown",
     "metadata": {},
     "source": [
      "1:30pm\n",
      "\n",
      "* added water to Purpurea pitchers\n",
      "\n",
      "Intend to repot Drosera and plantlets today. Hopefully will remove a lot of mold. Debating whether to use an Isopropyl treatment to help fight mold."
     ]
    },
    {
     "cell_type": "markdown",
     "metadata": {},
     "source": [
      "#Scratch Pad Cell\n",
      "##Intended mixes\n",
      "* Byblis liniflora - 3/4:1/4 peat:sand mix with a \"heat treatment\", give shade[^1].\n",
      "\n",
      "[^1]:http://www.carnivorousplants.org/cpn/articles/CPNv10n4p102_103.pdf\n",
      "\n",
      "* Unidentified Drosera plantlets - 50/50 sand:peat mix\n",
      "\n",
      "* Darlingtonia Californica - 60/40 peat:sand[^2]. **Aside:** In future can also try 100% peat moss, or a finely chopped Sphagnum/sand mix.\n",
      "\n",
      "[^2]:http://www.carnivorousplants.org/howto/GrowingGuides/Darlingtonia.php\n",
      "\n",
      "* Utricularia subulata - pure chopped sphagnum, with a few cm of water in glass container, because can handle container without drainage and likes containers that allow light into the soil[^4]. **Aside:** later try 50/50 peat:sand\n",
      "\n",
      "[^4]:http://www.carnivorousplants.org/howto/GrowingGuides/Utricularia.php\n",
      "\n",
      "##Byblis Liniflora\n",
      "* Depending on seed #, one part of the seeds we will use the [Gibberellic acid](https://en.wikipedia.org/wiki/Gibberellic_acid) or \"bleach method\" with 1/10 bleach:water mix to remove the germination inhibitor on the seeds. The other part will use the \"cold-smoke\" method, and the last part will be untreated.\n",
      "\n",
      "##Intended breakout boards and sensors\n",
      "\n",
      "\n",
      "###Second group of sensors\n",
      "for later .. it's expensiveeee\n",
      "\n",
      "* water pump for chilled water with Darlingtonia, they like cool roots, and are found with running cool water. cycle into chilled water.[^1][^2]\n",
      "\n",
      "[^1]:www.carnivorousplants.org/howto/GrowingGuides/Darlingtonia.php\n",
      "[^2]:http://www.carnivorousplants.org/cpn/articles/CPNv14n3p78_80.pdf\n",
      "\n",
      "* [SHT-10](https://www.adafruit.com/products/1298) ([SHT10 datasheet](http://www.adafruit.com/datasheets/Sensirion_Humidity_SHT1x_Datasheet_V5.pdf), [soil sensor datasheet](http://www.adafruit.com/datasheets/SLHT5.pdf)) - soil temperature / moisture sensor, -40 - 123.8\u00b0C, 0-100%RH, **NOTE: avoid long term submersion, might want to find an alternative**\n",
      "\n",
      "\n",
      "#Grow Guides\n",
      "* [Pinguicula lusitanica](http://www.carnivorousplants.org/howto/GrowingGuides/Pings_WarmTemp.php) and treat like a brightly lit Drosera [^1].\n",
      "\n",
      "\n",
      "[^1]:http://www.sarracenia.com/faq/faq5473.html\n",
      "\n",
      "* [Byblis](http://www.carnivorousplants.org/howto/GrowingGuides/Byblis.php)\n",
      "  * [Byblis liniflora](http://www.carnivorousplants.org/cpn/articles/CPNv10n4p102_103.pdf)\n",
      "* [Utricularia subulata](http://www.carnivorousplants.org/howto/GrowingGuides/Utricularia.php)\n",
      "* [Darlingtonia](http://www.sarracenia.com/faq/faq5178.html)\n",
      "* [Sarracenia](http://www.carnivorousplants.org/howto/Propagation/SarraceniaSeed.php)\n",
      "\n",
      "#Build Guides\n",
      "* [Darlingtonia cooling box](http://www.sarracenia.com/faq/faq6010j.html)\n",
      "* [Terrarium build](http://www.sarracenia.com/faq/faq6010c.html)\n",
      "\n",
      "#Intents for controlling terrarium environment\n",
      "Light, air, water..\n",
      "\n",
      "##Bulb\n",
      "* 40W, at least cool-white. Barry ([sarracenia.com](http://sarracenia.com)) uses T12 bulbs[^1].\n",
      "\n",
      "[^1]:http://www.sarracenia.com/faq/faq6010c.html\n",
      "\n",
      "##Ballast\n",
      "* electronic ballast, to create leass heat. one ballast per 40W T12 bulb.\n",
      "\n",
      "##Cooling Fan\n",
      "* Computer fan, Barry uses a fan that blows about 25-35 cfm. Don't wanna stagnate the air too much[^1].\n",
      "\n",
      "[^1]:http://www.sarracenia.com/faq/faq3440.html\n",
      "\n",
      "##Timer\n",
      "* Will begin with using a regular electric timer\n",
      "* In future will use an electronic relay attached to same circuit as sensors.\n",
      "\n",
      "##Water pump\n",
      "* This will be both to prevent stagnation, and to also cool down the roots of the Darlingtonia if the need arrises. \n",
      "  * Will have a regular timed interval to circulate the water to prevent stagnation.\n",
      "  * Will Have an alarm if Darlingtonia gets too hot.\n",
      "\n",
      "##Humidity\n",
      "* Note to self to possibly use a mister, but will wait until terrarium is acclimated, because will likely be unnecessary.\n",
      "\n",
      "\n"
     ]
    },
    {
     "cell_type": "markdown",
     "metadata": {},
     "source": [
      "#Warning Sensors Points\n",
      "Will add these points to tweet to myself that something bad is happening.\n",
      "\n",
      "* In general don't exceed 38\u00b0C (100\u00b0F)[^4]\n",
      "* If near **80\u00b0F**, warn for Darlingtonia, they need cool roots[^1], and roots recommended no warmer than **17\u00b0C**[^2].\n",
      "* Pinguicula Lusitanica needs temp above 15\u00b0C (60\u00b0F)[^3]\n",
      "\n",
      "[^4]:http://www.sarracenia.com/faq/faq3520.html\n",
      "[^1]:http://www.carnivorousplants.org/howto/GrowingGuides/Darlingtonia.php\n",
      "[^2]:http://www.carnivorousplants.org/cpn/articles/CPNv14n3p78_80.pdf\n",
      "[^3]:http://www.carnivorousplants.org/howto/GrowingGuides/Pings_WarmTemp.php\n",
      "\n",
      "* 50-90% humidity[^4]\n",
      "\n",
      "[^4]:http://www.sarracenia.com/faq/faq3440.html\n"
     ]
    },
    {
     "cell_type": "markdown",
     "metadata": {},
     "source": [
      "#Sensors\n",
      "* [DHT22](http://www.adafruit.com/products/385) ([datasheet](https://www.adafruit.com/datasheets/DHT22.pdf)) - temperature and humidity, humidity 0-100%RH, temperature -40 - 125\u00b0C, **NOTE: avoid dew warning**\n",
      "* [TSL2561](https://www.adafruit.com/products/439) ([datasheet](https://www.adafruit.com/datasheets/TSL256x.pdf))- luminosity, 0.1 to 40,000 Lux\n",
      "* [CdS photoresistor](https://www.adafruit.com/products/161) ([datasheet 1](https://learn.adafruit.com/system/assets/assets/000/010/127/original/PDV-P8001.pdf), [datasheet 2](https://learn.adafruit.com/system/assets/assets/000/010/128/original/DTS_A9950_A7060_B9060.pdf)) - ~5-200K\u03a9\n",
      "* [Infragram Webcam](https://www.adafruit.com/products/1722) - visible and infrared"
     ]
    },
    {
     "cell_type": "code",
     "collapsed": false,
     "input": [],
     "language": "python",
     "metadata": {},
     "outputs": []
    }
   ],
   "metadata": {}
  }
 ]
}